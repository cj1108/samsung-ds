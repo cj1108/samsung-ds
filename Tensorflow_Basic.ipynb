{
 "cells": [
  {
   "cell_type": "code",
   "execution_count": 1,
   "metadata": {},
   "outputs": [],
   "source": [
    "import tensorflow as tf"
   ]
  },
  {
   "cell_type": "markdown",
   "metadata": {},
   "source": [
    "# 1. Tensorflow Basic\n",
    "\n",
    "이 실습에서는 Tensorflow에서 가장 핵심이 되는 **텐서**를 만들고 조작하는 함수를 알아보도록 하겠습니다. Tensorflow 내에서 텐서는 `Tensor` 클래스를 통해 구현됩니다. 필수는 아니지만, 실습을 하면서 Tensor의 구체적인 정보가 필요하신 분들은 다음 [**링크**](https://www.tensorflow.org/guide/tensor)를 참조해주세요. 실습 진행에 필수적으로 \n",
    "\n",
    "Tensorflow에서 사용하는 함수들에 대해선 다음 링크를 참조해주세요. 텐서 실습시에 필요한 함수를 찾아보기에 유용할 것입니다.\n",
    "\n",
    "[**Tensorflow API 문서**](https://www.tensorflow.org/api_docs/python/tf#functions_2)"
   ]
  },
  {
   "cell_type": "code",
   "execution_count": 27,
   "metadata": {},
   "outputs": [],
   "source": [
    "# 두 텐서가 완전히 같은지를 판별하는 함수입니다.\n",
    "def compare_tensors(x, y):\n",
    "    diff = len(tf.where(tf.math.equal(x, y) == False))\n",
    "    \n",
    "    if diff == 0:\n",
    "        return True\n",
    "    else:\n",
    "        return False"
   ]
  },
  {
   "cell_type": "markdown",
   "metadata": {},
   "source": [
    "## 1.1 Constant Tensors\n",
    "\n",
    "모든 값이 **상수**인 텐서를 만드는 함수를 알아봅니다."
   ]
  },
  {
   "cell_type": "code",
   "execution_count": 1,
   "metadata": {
    "collapsed": true,
    "jupyter": {
     "outputs_hidden": true
    }
   },
   "outputs": [
    {
     "ename": "SyntaxError",
     "evalue": "invalid syntax (<ipython-input-1-ec6f64eaa029>, line 4)",
     "output_type": "error",
     "traceback": [
      "\u001b[0;36m  File \u001b[0;32m\"<ipython-input-1-ec6f64eaa029>\"\u001b[0;36m, line \u001b[0;32m4\u001b[0m\n\u001b[0;31m    t1 = pass\u001b[0m\n\u001b[0m            ^\u001b[0m\n\u001b[0;31mSyntaxError\u001b[0m\u001b[0;31m:\u001b[0m invalid syntax\n"
     ]
    }
   ],
   "source": [
    "#################################################\n",
    "# TODO: 8의 값을 가지는 스칼라 텐서를 만드세요.\n",
    "\n",
    "t1 = pass\n",
    "#################################################\n",
    "\n",
    "print('[t1]\\n', t1)\n",
    "print()\n",
    "\n",
    "#################################################\n",
    "# TODO: 0의 값을 가지는 (3 X 5) 텐서를 만드세요.\n",
    "#       코드는 한줄로만 작성해야 합니다.\n",
    "\n",
    "t2 = pass\n",
    "#################################################\n",
    "\n",
    "print('[t2]\\n:', t2)\n",
    "print()\n",
    "\n",
    "#########################################################\n",
    "# TODO: 모든 원소의 값이 1인 (4 X 2 X 6) 텐서를 만드세요.\n",
    "#       코드는 한줄로만 작성해야 합니다. \n",
    "\n",
    "t3 = pass\n",
    "#########################################################\n",
    "\n",
    "print('[t3]\\n', t3)\n",
    "print()\n",
    "################################################################################\n",
    "# TODO: 모든 원소의 값이 7인 (2 X 5 X 4) 텐서를 만드세요.\n",
    "#       코드는 한줄로만 작성해야 합니다. 위의 함수들과는 다른 함수를 사용해야 합니다.\n",
    "\n",
    "t4 = pass\n",
    "################################################################################\n",
    "\n",
    "print('[t4]\\n', t4)\n",
    "print()\n",
    "############################################################\n",
    "# TODO: [1, 2, 3, 4, 5, 6]의 값으로 (2 X 3) 텐서를 만드세요.\n",
    "#       반드시 [1, 2, 3, 4, 5, 6]을 input으로 주되,\n",
    "#       이를 (2 X 3) 으로 바꿀 수 있는 argument를 찾아보세요.\n",
    "#       코드는 한줄로만 작성해야 합니다.\n",
    "\n",
    "t5 = pass\n",
    "############################################################\n",
    "\n",
    "print('[t5]\\n', t5)"
   ]
  },
  {
   "cell_type": "markdown",
   "metadata": {},
   "source": [
    "## 1.2. Random Tensors\n",
    "\n",
    "텐서의 각 원소를 **임의**로 지정하는 함수를 알아봅니다."
   ]
  },
  {
   "cell_type": "code",
   "execution_count": 2,
   "metadata": {
    "collapsed": true,
    "jupyter": {
     "outputs_hidden": true
    }
   },
   "outputs": [
    {
     "ename": "SyntaxError",
     "evalue": "invalid syntax (<ipython-input-2-99e19a5001a0>, line 7)",
     "output_type": "error",
     "traceback": [
      "\u001b[0;36m  File \u001b[0;32m\"<ipython-input-2-99e19a5001a0>\"\u001b[0;36m, line \u001b[0;32m7\u001b[0m\n\u001b[0;31m    rand_t1 = pass\u001b[0m\n\u001b[0m                 ^\u001b[0m\n\u001b[0;31mSyntaxError\u001b[0m\u001b[0;31m:\u001b[0m invalid syntax\n"
     ]
    }
   ],
   "source": [
    "seed = 3921\n",
    "\n",
    "#######################################################################\n",
    "# TODO: 평균 0, 표준편차 1인 정규 분포에서 생성된 (7 X 4) 텐서를 만드세요.\n",
    "#        seed 값을 꼭 위의 변수로 설정해주세요!\n",
    "\n",
    "rand_t1 = pass\n",
    "#######################################################################\n",
    "\n",
    "print('[rand_t1]\\n', rand_t1)\n",
    "print()\n",
    "\n",
    "####################################################################################\n",
    "# TODO: 최소값 0, 최대값 3인 균등(uniform) 분포에서 생성된 (5 X 4 X 3) 텐서를 만드세요.\n",
    "#       seed 값을 꼭 위의 변수로 설정해주세요!\n",
    "\n",
    "rand_t2 = pass\n",
    "####################################################################################\n",
    "\n",
    "print('[rand_t2]\\n', rand_t2)\n",
    "print()"
   ]
  },
  {
   "cell_type": "markdown",
   "metadata": {},
   "source": [
    "## 1.3. Tensor Arithmetic\n",
    "\n",
    "두개 이상의 텐서의 **사칙연산과 행렬곱**을 구하는 함수를 알아봅니다.\n",
    "\n",
    "더불어, 하나의 텐서의 모든 원소들의 **합, 평균, 최대값**을 구하는 함수 또한 알아봅니다.\n",
    "\n",
    "**Hint**: 합, 평균, 최대의 경우에는 모든 원소들을 하나의 값으로 **감소(reduce)** 시키는 것이므로 이것에 유의하여 함수를 찾아보세요. 이들은 주로 [**tf.math**](https://www.tensorflow.org/api_docs/python/tf/math) 모듈 내에 있습니다."
   ]
  },
  {
   "cell_type": "code",
   "execution_count": 28,
   "metadata": {},
   "outputs": [],
   "source": [
    "#####################################################################\n",
    "# TODO: 1부터 12까지의 값을 연속적으로 가지는 (3 X 4) 텐서를 만드세요.\n",
    "#       값을 연속으로 생성할 수 있는 Tensorflow 내의 함수를 사용하세요.\n",
    "\n",
    "t1 = pass\n",
    "#####################################################################\n",
    "\n",
    "#####################################################################\n",
    "# TODO: 13부터 24까지의 값을 연속적으로 가지는 (3 X 4) 텐서를 만드세요.\n",
    "#       값을 연속으로 생성할 수 있는 Tensorflow 내의 함수를 사용하세요.\n",
    "\n",
    "t2 = pass\n",
    "#####################################################################\n",
    "\n",
    "#####################################################################\n",
    "# TODO: t1과 t2를 원소별로(element-wise) 더한 텐서를 구하세요.\n",
    "# add_1과 add_2를 서로 다른 방식으로 계산하되, 둘의 결과는 같아야 합니다.\n",
    "\n",
    "add_1 = pass\n",
    "add_2 = pass\n",
    "#####################################################################\n",
    "\n",
    "assert compare_tensors(add_1, add_2)\n",
    "print('<PASS> add_1 and add_2 are same!\\n')\n",
    "\n",
    "#####################################################################\n",
    "# TODO: t1과 t2를 원소별로 곱한 텐서를 구하세요.\n",
    "# mul_1과 mul_2를 서로 다른 방식으로 계산하되, 둘의 결과는 같아야 합니다.\n",
    "\n",
    "mul_1 = pass\n",
    "mul_2 = pass\n",
    "#####################################################################\n",
    "\n",
    "assert compare_tensors(mul_1, mul_2)\n",
    "print('<PASS> mul_1 and mul_2 are same!\\n')\n",
    "\n",
    "#####################################################################\n",
    "# TODO: 1부터 24까지의 값을 연속적으로 가지는 (4 X 6) 텐서를 만드세요.\n",
    "#       값을 연속으로 생성할 수 있는 Tensorflow 내의 함수를 사용하세요.\n",
    "\n",
    "t3 = pass\n",
    "#####################################################################\n",
    "\n",
    "#############################################################################\n",
    "# TODO: t1과 t3 사이의 행렬곱(matrix multiplication)을 구하세요.\n",
    "# mat_mul_1과 mat_mul_2를 서로 다른 방식으로 계산하되, 둘의 결과는 같아야 합니다.\n",
    "\n",
    "mat_mul_1 = pass\n",
    "mat_mul_2 = pass\n",
    "#####################################################################\n",
    "\n",
    "assert compare_tensors(mat_mul_1, mat_mul_2)\n",
    "print('<PASS> mat_mul_1 and mat_mul_2 are same!\\n')\n",
    "\n",
    "###############################################################\n",
    "# TODO: mat_mul_1의 전체 평균과 전체 합, 최대값을 각각 구하세요.\n",
    "\n",
    "mean_mat_mul_1 = pass\n",
    "sum_mat_mul_1 = pass\n",
    "max_mat_mul_1 = pass\n",
    "###############################################################\n",
    "\n",
    "print('[mean_mat_mul_1]:', mean_mat_mul_1)\n",
    "print('[sum_mat_mul_1]:', sum_mat_mul_1)\n",
    "print('[max_mat_mul_1]:', max_mat_mul_1)"
   ]
  },
  {
   "cell_type": "markdown",
   "metadata": {},
   "source": [
    "## 1.4. Tensor Reshape"
   ]
  },
  {
   "cell_type": "code",
   "execution_count": 6,
   "metadata": {},
   "outputs": [],
   "source": [
    "#######################################################################\n",
    "# TODO: 1부터 24까지의 값을 연속적으로 가지는 (2 X 3 X 4) 텐서를 만드세요.\n",
    "\n",
    "t1 = pass\n",
    "#######################################################################\n",
    "\n",
    "###########################################\n",
    "# TODO: t1 텐서를 (4 X 6) 텐서로 변환하세요.\n",
    "\n",
    "t1_reshape1 = pass\n",
    "###########################################\n",
    "\n",
    "print('[t1_reshape1]\\n', t1_reshape1)\n",
    "print()\n",
    "\n",
    "###################################################\n",
    "# TODO: t1 텐서를 행이 3개인 2차원 텐서로 변환하세요.\n",
    "#       행 개수만 지정해야 합니다!\n",
    "\n",
    "t1_reshape2 = pass\n",
    "###################################################\n",
    "\n",
    "print('[t1_reshape2]\\n', t1_reshape2)"
   ]
  },
  {
   "cell_type": "markdown",
   "metadata": {},
   "source": [
    "# 2. Variable Tensor\n",
    "\n",
    "**Variable 텐서**는 변화하는 값을 저장하기 위한 클래스입니다. 지금까지 사용한 함수로 생성된 텐서는 한번 생성되면 그 값을 변화시킬 수 없습니다. 하지만 모델이 학습되기 위해서는 모델을 구성하는 **weight 텐서**가 변화해야 하기 때문에 이때는 값이 **변화하는** 텐서가 필요합니다. 따라서 이 경우에 사용하는 텐서가 바로 **Variable** 텐서입니다.\n",
    "\n",
    "Variable 텐서는 `tensorflow` 내의 `Variable` 클래스를 이용하여 생성할 수 있습니다. 이 클래스는 `Tensor` 클래스를 기반으로 구현되었기 때문에 기존 텐서에서 사용하였던 연산들을 똑같이 사용할 수 있습니다."
   ]
  },
  {
   "cell_type": "markdown",
   "metadata": {},
   "source": [
    "## 2.1 Variable"
   ]
  },
  {
   "cell_type": "code",
   "execution_count": 16,
   "metadata": {},
   "outputs": [],
   "source": [
    "######################################################################\n",
    "# TODO: 1부터 9까지의 값을 순서대로 가지는 3 x 3 Variable 텐서를 만드세요\n",
    "\n",
    "var_t = pass\n",
    "######################################################################\n",
    "\n",
    "print('[var_t]:\\n', var_t)\n",
    "print()\n",
    "\n",
    "################################################################\n",
    "# TODO: constant를 이용해 1부터 4까지의 값을 가지는 텐서를 만들고\n",
    "#       Variable 텐서로 변환하세요\n",
    "\n",
    "cons_t = pass\n",
    "var_t2 = pass\n",
    "################################################################\n",
    "\n",
    "print('[var_t2]\\n', var_t2)\n",
    "print()\n",
    "\n",
    "########################################################################\n",
    "# TODO: 위에서 생성한 var_t2의 값을 5에서 8까지의 값이 들어가도록 바꾸세요\n",
    "\n",
    "var_t3 = pass\n",
    "########################################################################\n",
    "\n",
    "print('[var_t3]\\n', var_t3)\n",
    "print()\n",
    "\n",
    "############################################################\n",
    "# TODO: var_t3에 [[2, 3], [4, 5]]로 이루어진 텐서를 더하세요\n",
    "#       반드시 Variable 텐서에 사용되는 함수를 이용해야 합니다.\n",
    "\n",
    "var_t4 = pass\n",
    "############################################################\n",
    "\n",
    "print('[var_t4]\\n', var_t4)\n",
    "print()\n",
    "\n",
    "############################################################\n",
    "# TODO: var_t4에 [[1, 3], [5, 7]]로 이루어진 텐서를 빼세요\n",
    "#       반드시 Variable 텐서에 사용되는 함수를 이용해야 합니다.\n",
    "\n",
    "var_t5 = pass\n",
    "############################################################\n",
    "\n",
    "print('[var_t5]\\n', var_t5)"
   ]
  },
  {
   "cell_type": "markdown",
   "metadata": {},
   "source": [
    "## 2.2 Gradient\n",
    "\n",
    "Variable 텐서를 사용하는 가장 큰 이유는 Gradient 계산, 즉 미분을 하기 위함입니다. 앞서 소개해드린 대로 모델의 학습을 위해 **손실 함수(Loss Function)** 을 정의하고 이를 최적화하기 위해 Automatic Differentiation을 수행하는데, 이번 실습에서는 Tensorflow에서 미분을 관리하는 `GradientTape` 이라는 것을 알아보도록 하겠습니다."
   ]
  },
  {
   "cell_type": "code",
   "execution_count": 2,
   "metadata": {
    "collapsed": true,
    "jupyter": {
     "outputs_hidden": true
    }
   },
   "outputs": [
    {
     "name": "stdout",
     "output_type": "stream",
     "text": [
      "tf.Tensor(6.0, shape=(), dtype=float32)\n"
     ]
    }
   ],
   "source": [
    "# 다음은 GradientTape을 어떻게 사용하는지에 대한 간단한 예시입니다.\n",
    "# 여기서는 x가 Variable 텐서가 아닌 일반 텐서임을 유의해주세요.\n",
    "x = tf.constant(3.0)\n",
    "with tf.GradientTape() as tape:\n",
    "    tape.watch(x) # x가 Variable이 아니기 때문에 x를 GradientTape이 추적할 수 있도록 해줍니다.\n",
    "    y = x * x # y = x ^ 2\n",
    "    \n",
    "dy_dx = tape.gradient(y, x) # dy = 2x\n",
    "print(dy_dx)"
   ]
  },
  {
   "cell_type": "code",
   "execution_count": 23,
   "metadata": {
    "collapsed": true,
    "jupyter": {
     "outputs_hidden": true
    }
   },
   "outputs": [
    {
     "name": "stdout",
     "output_type": "stream",
     "text": [
      "tf.Tensor([68. 68.], shape=(2,), dtype=float32)\n",
      "tf.Tensor([408. 408.], shape=(2,), dtype=float32)\n",
      "tf.Tensor([680. 680.], shape=(2,), dtype=float32)\n"
     ]
    }
   ],
   "source": [
    "######################################################################################\n",
    "# TODO: z = x ^ 2 + y ^ 2와 w = z ^ 2 함수를 구현한 뒤에 dw_dz, dw_dx, dw_dy를 구하세요.\n",
    "# x와 y는 각각 [3.0, 3.0]과 [5.0, 5.0]의 초기값을 갖는 Variable 텐서여야 합니다.\n",
    "\n",
    "x = pass\n",
    "y = pass\n",
    "\n",
    "# gradient() 함수를 여러번 사용하기 위해서는 persistent=True를 설정해야 합니다.\n",
    "with tf.GradientTape(persistent=True) as tape:\n",
    "    # Variable 텐서를 사용하면 watch() 함수는 필요하지 않습니다.\n",
    "    z = pass\n",
    "    w = pass\n",
    "\n",
    "print('dw / dz:', pass) # z에 대한 w의 미분\n",
    "print('dw / dx:', pass) # x에 대한 w의 미분\n",
    "print('dw / dy:', pass) # y에 대한 w의 미분\n",
    "######################################################################################"
   ]
  }
 ],
 "metadata": {
  "kernelspec": {
   "display_name": "Python 3",
   "language": "python",
   "name": "python3"
  },
  "language_info": {
   "codemirror_mode": {
    "name": "ipython",
    "version": 3
   },
   "file_extension": ".py",
   "mimetype": "text/x-python",
   "name": "python",
   "nbconvert_exporter": "python",
   "pygments_lexer": "ipython3",
   "version": "3.7.6"
  }
 },
 "nbformat": 4,
 "nbformat_minor": 4
}
